{
 "cells": [
  {
   "cell_type": "markdown",
   "id": "aa6ec231-19a2-4bad-af57-d2218b48a27a",
   "metadata": {},
   "source": [
    "# Page de garde "
   ]
  },
  {
   "cell_type": "markdown",
   "id": "9eb1f387-463a-4ad5-9a7a-a4e4c900252f",
   "metadata": {},
   "source": [
    "# Sommaire"
   ]
  },
  {
   "cell_type": "markdown",
   "id": "aea8f203-789e-4b84-a282-ec89ba0ecc80",
   "metadata": {},
   "source": [
    "# Introduction\n",
    "\n",
    "## Contexte\n",
    "Dans l'enquête sur une bande de cyberpirates, un agent fut envoyé pour les espionner. Notre agent K57 est coincé dans une salle où aucune onde ne peut en sortir et a besoin d’envoyer des messages secrets grâce à un microphone. Notre but est de trouver une solution à cette solution.\n",
    "\n",
    "## Problématique\n",
    "Quel appareil peut-on concevoir pour envoyer des messages secrets à travers le microphone dans la salle ?\n"
   ]
  },
  {
   "cell_type": "markdown",
   "id": "5f43e8fc-a338-4271-96bf-2b5d7a08d5dc",
   "metadata": {},
   "source": [
    "# Notre solution\n",
    "\n",
    "## Le matériel\n",
    "Le matiériel à qui à notre disposition est :\n",
    "- le pad\n",
    "- le micro (connecté au reseau du batiment)\n",
    "\n",
    "## Appareil\n",
    "La solution qu'on a "
   ]
  }
 ],
 "metadata": {
  "kernelspec": {
   "display_name": "Python 3 (ipykernel)",
   "language": "python",
   "name": "python3"
  },
  "language_info": {
   "codemirror_mode": {
    "name": "ipython",
    "version": 3
   },
   "file_extension": ".py",
   "mimetype": "text/x-python",
   "name": "python",
   "nbconvert_exporter": "python",
   "pygments_lexer": "ipython3",
   "version": "3.12.7"
  }
 },
 "nbformat": 4,
 "nbformat_minor": 5
}
